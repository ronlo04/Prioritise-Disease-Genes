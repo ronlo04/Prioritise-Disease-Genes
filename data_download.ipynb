{
 "cells": [
  {
   "cell_type": "markdown",
   "metadata": {},
   "source": [
    "# Data Download\n",
    "#### Introduction:\n",
    "\n",
    "The notebook is to let user to specify the disease ID for the research purpose. Data are downloaded, parsed and consolidated into useful format.\n",
    "\n",
    "Input:\tDisease ID of interest. EFO_0000685 in this project\n",
    "\n",
    "Process:\t\n",
    "\n",
    "-\tBased on the input disease ID, get the genetic association data and drug association data from OpenTargets Platform using Google BigQuery API.\n",
    "-\tDownload genes data and molecular interactions data from OpenTargerts Platform by wget method.\n",
    "-\tIntegrate and parse the downloaded data into data files, in single json file or csv file.\n",
    "\n",
    "Output:\t\n",
    "-\tInteraction data in json format.\n",
    "-\tgene id and gene symbol mapping in csv format.\n",
    "\n",
    "Quality control:\tManually verify the number of records in the program with the result from the Open Targets web platform\n",
    "\n",
    "Remarks:\tUser can define different disease ID for other purpose\n"
   ]
  },
  {
   "cell_type": "markdown",
   "metadata": {},
   "source": [
    "#### Import Library"
   ]
  },
  {
   "cell_type": "code",
   "execution_count": 11,
   "metadata": {},
   "outputs": [],
   "source": [
    "import os\n",
    "from google.cloud import bigquery\n",
    "import json\n",
    "import pandas as pd\n",
    "import subprocess"
   ]
  },
  {
   "cell_type": "markdown",
   "metadata": {},
   "source": [
    "#### Define Helper Functions"
   ]
  },
  {
   "cell_type": "code",
   "execution_count": 14,
   "metadata": {},
   "outputs": [],
   "source": [
    "# define load targets data from downloaded files\n",
    "\n",
    "def combine_json_splits (json_files_path, output_file_path):\n",
    "    '''\n",
    "    Utlise json library to read each json splits\n",
    "    and use Pandas to integrate the data and export to a single JSON file\n",
    "    parameters: \n",
    "        json_files_path: string, the path contain the json files\n",
    "        output_file_path: string, the path to store the processed files\n",
    "    return:\n",
    "        None\n",
    "    exception:\n",
    "        JSON Decode error\n",
    "    '''\n",
    "    data = []\n",
    "    for filename in os.listdir(json_files_path):\n",
    "        if filename.endswith('.json'):\n",
    "            file_path = os.path.join(json_files_path, filename)\n",
    "            with open(file_path, 'r') as file:\n",
    "                for line in file:\n",
    "                    try:\n",
    "                        json_data = json.loads(line)\n",
    "                        data.append(json_data)\n",
    "                    except json.JSONDecodeError as e:\n",
    "                        print(f\"Error decoding JSON in file: {filename}\")\n",
    "                        print(e)\n",
    "\n",
    "    df = pd.DataFrame(data)\n",
    "    df.to_json(output_file_path)\n",
    "    \n",
    "    return None"
   ]
  },
  {
   "cell_type": "code",
   "execution_count": 8,
   "metadata": {},
   "outputs": [],
   "source": [
    "def get_asso_data_google_big_query (api_key_path, disease_id, datatype_id, output_file_name_path):\n",
    "    '''\n",
    "    use google big query API to make query to the OpenTargets Database, and use pandas to process the download data and export it to a csv file\n",
    "    \n",
    "    parameters:\n",
    "        api_key_path: str, the path where the api key is stored\n",
    "        disease_id: str, the id of the disease\n",
    "        datatype_id: str, the id of the datatype\n",
    "        output_file_name_path: str, the path where te output file is stored\n",
    "    return:\n",
    "        None\n",
    "    '''\n",
    "    # set up the api client\n",
    "    client = bigquery.Client.from_service_account_json(api_key_path)\n",
    "\n",
    "    # prepare the queries\n",
    "    query_statement = f\"\"\"\n",
    "        SELECT\n",
    "        associations.targetId AS target_id,\n",
    "        targets.approvedSymbol AS target_approved_symbol,\n",
    "        associations.diseaseId AS disease_id,\n",
    "        diseases.name AS disease_name,\n",
    "        associations.score AS genetic_association_score_Indirect_and_direct\n",
    "        FROM\n",
    "        `open-targets-prod.platform.associationByDatatypeIndirect` AS associations\n",
    "        JOIN\n",
    "        `open-targets-prod.platform.diseases` AS diseases\n",
    "        ON\n",
    "        associations.diseaseId = diseases.id\n",
    "        JOIN\n",
    "        `open-targets-prod.platform.targets` AS targets\n",
    "        ON\n",
    "        associations.targetId = targets.id\n",
    "        WHERE\n",
    "        associations.diseaseId= '{disease_id}'\n",
    "        and\n",
    "        associations.datatypeId='{datatype_id}'\n",
    "        ORDER BY\n",
    "        associations.score DESC\n",
    "    \"\"\"\n",
    "    genetic_asso_df = client.query(query_statement).to_dataframe()\n",
    "    genetic_asso_df.to_csv(output_file_name_path, index=False)\n",
    "\n",
    "    return None"
   ]
  },
  {
   "cell_type": "markdown",
   "metadata": {},
   "source": [
    "#### Download Genetic Association Data and Drug Association Data from OpenTargets Platform using Google BigQuery API"
   ]
  },
  {
   "cell_type": "code",
   "execution_count": 10,
   "metadata": {},
   "outputs": [],
   "source": [
    "# specify the disease Id of interest, RA in this project\n",
    "\n",
    "disease_id = 'EFO_0000685'  #EFO_0000685 is the id of RA\n",
    "\n",
    "# specify the api key for Google Big Query\n",
    "api_key_path = os.path.join('google_bigquery_json_key', 'opentargetquery-394208-e9aac3a40e3e.json')\n",
    "\n",
    "# specify the directory to store the returned data\n",
    "genetic_asso_file_name = 'RAGeneticAssociationAll.csv'\n",
    "genetic_asso_file_path = os.path.join('open_targets_data', genetic_asso_file_name)\n",
    "\n",
    "drug_asso_file_name = 'RADrugAssociationAll.csv'\n",
    "drug_asso_file_path = os.path.join('open_targets_data', drug_asso_file_name)"
   ]
  },
  {
   "cell_type": "code",
   "execution_count": 11,
   "metadata": {},
   "outputs": [],
   "source": [
    "# process Google big query and  the csv file of genetic association data with the disease id \n",
    "\n",
    "get_asso_data_google_big_query(api_key_path=api_key_path, disease_id=disease_id, datatype_id='genetic_association', output_file_name_path=genetic_asso_file_path)\n",
    "\n",
    "# get the csv file of drug association data with the disease id \n",
    "\n",
    "get_asso_data_google_big_query(api_key_path=api_key_path, disease_id=disease_id, datatype_id='known_drug', output_file_name_path=drug_asso_file_path)"
   ]
  },
  {
   "cell_type": "markdown",
   "metadata": {},
   "source": [
    "#### Download Targets and PPI data from OpenTargerts Platform by wget Method"
   ]
  },
  {
   "cell_type": "code",
   "execution_count": 3,
   "metadata": {},
   "outputs": [],
   "source": [
    "open_targets_data_directory = os.path.join('open_targets_data')\n",
    "\n",
    "# Caution about the long download time as this is downloading 5GB data\n",
    "\n",
    "# download targets data from OpenTargets platform\n",
    "url = \"ftp://ftp.ebi.ac.uk/pub/databases/opentargets/platform/23.06/output/etl/json/targets\"\n",
    "subprocess.run([\"wget\", f\"-P{open_targets_data_directory}\", \"--recursive\", \"--no-host-directories\", \"--cut-dirs=8\", url])\n",
    "\n",
    "# download interaction data from OpenTargets platform\n",
    "url = \"ftp.ebi.ac.uk/pub/databases/opentargets/platform/23.06/output/etl/json/interaction\"\n",
    "subprocess.run([\"wget\", f\"-P{open_targets_data_directory}\", \"--recursive\", \"--no-host-directories\", \"--cut-dirs=8\", url])"
   ]
  },
  {
   "cell_type": "code",
   "execution_count": 15,
   "metadata": {},
   "outputs": [],
   "source": [
    "# integrate downloaded pieces into json file\n",
    "\n",
    "targets_files_path = os.path.join(open_targets_data_directory, 'targets')\n",
    "targets_output_json_path = os.path.join(open_targets_data_directory, 'targets.json')\n",
    "combine_json_splits(json_files_path = targets_files_path, output_file_path = targets_output_json_path)\n",
    "\n",
    "targets_files_path = os.path.join(open_targets_data_directory, 'interaction')\n",
    "targets_output_json_path = os.path.join(open_targets_data_directory, 'interaction.json')\n",
    "combine_json_splits(json_files_path = targets_files_path, output_file_path = targets_output_json_path)\n"
   ]
  },
  {
   "cell_type": "markdown",
   "metadata": {},
   "source": [
    "#### Create Target Gene ID to Symbol Mapping file"
   ]
  },
  {
   "cell_type": "code",
   "execution_count": 16,
   "metadata": {},
   "outputs": [],
   "source": [
    "# create data file that contain the gene ID to symbol mapping\n",
    "\n",
    "# specify the output file name and path\n",
    "mapping_file_path = os.path.join('data', 'others', 'target_gene_id_sym.csv')\n",
    "\n",
    "# use pandas to filter the data that is needed\n",
    "targets = pd.read_json(targets_output_json_path)\n",
    "target_genes = targets.loc[targets['biotype'] == 'protein_coding']  # for biotype = protein_coding, they are gene related targets\n",
    "target_gene_id_sym = target_genes[['id', 'approvedSymbol', 'symbolSynonyms', 'alternativeGenes']]\n",
    "target_gene_id_sym.to_csv(mapping_file_path, index=False)"
   ]
  }
 ],
 "metadata": {
  "kernelspec": {
   "display_name": "PULearn",
   "language": "python",
   "name": "python3"
  },
  "language_info": {
   "codemirror_mode": {
    "name": "ipython",
    "version": 3
   },
   "file_extension": ".py",
   "mimetype": "text/x-python",
   "name": "python",
   "nbconvert_exporter": "python",
   "pygments_lexer": "ipython3",
   "version": "3.10.12"
  },
  "orig_nbformat": 4
 },
 "nbformat": 4,
 "nbformat_minor": 2
}

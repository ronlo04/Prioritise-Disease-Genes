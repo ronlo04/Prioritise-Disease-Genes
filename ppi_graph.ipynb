{
 "cells": [
  {
   "cell_type": "markdown",
   "metadata": {},
   "source": [
    "# PPI Network Graph Preparation\n",
    "\n",
    "#### Introduction\n",
    "\n",
    "Filter needed PPI data for this project. Convert PPI data into network graph, clean and removed unneeded network edges.\n",
    "\n",
    "Input:\tPPI network data in json format \n",
    "\n",
    "Process:\t\n",
    "-\tfilter only data from ‘String’ as PPI network data\n",
    "-\tremove interaction records without gene ID\n",
    "-\tconvert data into network graph\n",
    "-\tdata checking and cleaning\n",
    "\n",
    "    o\tcheck and remove self looping edges    \n",
    "    o\tremove low score edges below the predefined threshold\n",
    "-\tvisualise the degree distribution of the graph\n",
    "\n",
    "Output:\t\n",
    "-\tfull network of the PPI, in pickle format\n",
    "-\tthe largest subgraph of the PPI, in pickle format\n",
    "\n",
    "Quality control:\t\n",
    "- Check the number of record, before and after removal of nodes. \n",
    "- Verify the change of number of nodes and edges are with known reason. \n",
    "- Verify by graph visualisation that the pattern should make sense.\n",
    "\n",
    "Remarks:\tUser can change to use other interaction data or use other threshold for other purpose\n"
   ]
  },
  {
   "attachments": {},
   "cell_type": "markdown",
   "metadata": {},
   "source": [
    "#### Import Libraries"
   ]
  },
  {
   "cell_type": "code",
   "execution_count": 2,
   "metadata": {},
   "outputs": [],
   "source": [
    "import pandas as pd\n",
    "import networkx as nx\n",
    "import pickle\n",
    "import numpy as np\n",
    "import matplotlib.pyplot as plt"
   ]
  },
  {
   "attachments": {},
   "cell_type": "markdown",
   "metadata": {},
   "source": [
    "#### Load PPI data"
   ]
  },
  {
   "cell_type": "code",
   "execution_count": 3,
   "metadata": {},
   "outputs": [],
   "source": [
    "# convert the json data to dataframe\n",
    "interactions = pd.read_json('open_targets_data\\interaction.json')"
   ]
  },
  {
   "cell_type": "code",
   "execution_count": 4,
   "metadata": {},
   "outputs": [
    {
     "data": {
      "text/html": [
       "<div>\n",
       "<style scoped>\n",
       "    .dataframe tbody tr th:only-of-type {\n",
       "        vertical-align: middle;\n",
       "    }\n",
       "\n",
       "    .dataframe tbody tr th {\n",
       "        vertical-align: top;\n",
       "    }\n",
       "\n",
       "    .dataframe thead th {\n",
       "        text-align: right;\n",
       "    }\n",
       "</style>\n",
       "<table border=\"1\" class=\"dataframe\">\n",
       "  <thead>\n",
       "    <tr style=\"text-align: right;\">\n",
       "      <th></th>\n",
       "      <th>sourceDatabase</th>\n",
       "      <th>targetA</th>\n",
       "      <th>intA</th>\n",
       "      <th>intABiologicalRole</th>\n",
       "      <th>targetB</th>\n",
       "      <th>intB</th>\n",
       "      <th>intBBiologicalRole</th>\n",
       "      <th>speciesA</th>\n",
       "      <th>speciesB</th>\n",
       "      <th>count</th>\n",
       "      <th>scoring</th>\n",
       "    </tr>\n",
       "  </thead>\n",
       "  <tbody>\n",
       "    <tr>\n",
       "      <th>4065</th>\n",
       "      <td>string</td>\n",
       "      <td>ENSG00000004059</td>\n",
       "      <td>ENSP00000000233</td>\n",
       "      <td>unspecified role</td>\n",
       "      <td>ENSG00000057608</td>\n",
       "      <td>ENSP00000369538</td>\n",
       "      <td>unspecified role</td>\n",
       "      <td>{'mnemonic': 'human', 'scientific_name': 'Homo...</td>\n",
       "      <td>{'mnemonic': 'human', 'scientific_name': 'Homo...</td>\n",
       "      <td>2</td>\n",
       "      <td>0.209</td>\n",
       "    </tr>\n",
       "    <tr>\n",
       "      <th>4066</th>\n",
       "      <td>string</td>\n",
       "      <td>ENSG00000004059</td>\n",
       "      <td>ENSP00000000233</td>\n",
       "      <td>unspecified role</td>\n",
       "      <td>ENSG00000175311</td>\n",
       "      <td>ENSP00000308772</td>\n",
       "      <td>unspecified role</td>\n",
       "      <td>{'mnemonic': 'human', 'scientific_name': 'Homo...</td>\n",
       "      <td>{'mnemonic': 'human', 'scientific_name': 'Homo...</td>\n",
       "      <td>2</td>\n",
       "      <td>0.175</td>\n",
       "    </tr>\n",
       "    <tr>\n",
       "      <th>4067</th>\n",
       "      <td>string</td>\n",
       "      <td>ENSG00000004059</td>\n",
       "      <td>ENSP00000000233</td>\n",
       "      <td>unspecified role</td>\n",
       "      <td>ENSG00000198055</td>\n",
       "      <td>ENSP00000433511</td>\n",
       "      <td>unspecified role</td>\n",
       "      <td>{'mnemonic': 'human', 'scientific_name': 'Homo...</td>\n",
       "      <td>{'mnemonic': 'human', 'scientific_name': 'Homo...</td>\n",
       "      <td>2</td>\n",
       "      <td>0.197</td>\n",
       "    </tr>\n",
       "    <tr>\n",
       "      <th>4068</th>\n",
       "      <td>string</td>\n",
       "      <td>ENSG00000003056</td>\n",
       "      <td>ENSP00000000412</td>\n",
       "      <td>unspecified role</td>\n",
       "      <td>ENSG00000106976</td>\n",
       "      <td>ENSP00000362014</td>\n",
       "      <td>unspecified role</td>\n",
       "      <td>{'mnemonic': 'human', 'scientific_name': 'Homo...</td>\n",
       "      <td>{'mnemonic': 'human', 'scientific_name': 'Homo...</td>\n",
       "      <td>2</td>\n",
       "      <td>0.904</td>\n",
       "    </tr>\n",
       "    <tr>\n",
       "      <th>4069</th>\n",
       "      <td>string</td>\n",
       "      <td>ENSG00000004478</td>\n",
       "      <td>ENSP00000001008</td>\n",
       "      <td>unspecified role</td>\n",
       "      <td>ENSG00000114867</td>\n",
       "      <td>ENSP00000416255</td>\n",
       "      <td>unspecified role</td>\n",
       "      <td>{'mnemonic': 'human', 'scientific_name': 'Homo...</td>\n",
       "      <td>{'mnemonic': 'human', 'scientific_name': 'Homo...</td>\n",
       "      <td>2</td>\n",
       "      <td>0.348</td>\n",
       "    </tr>\n",
       "    <tr>\n",
       "      <th>...</th>\n",
       "      <td>...</td>\n",
       "      <td>...</td>\n",
       "      <td>...</td>\n",
       "      <td>...</td>\n",
       "      <td>...</td>\n",
       "      <td>...</td>\n",
       "      <td>...</td>\n",
       "      <td>...</td>\n",
       "      <td>...</td>\n",
       "      <td>...</td>\n",
       "      <td>...</td>\n",
       "    </tr>\n",
       "    <tr>\n",
       "      <th>12172946</th>\n",
       "      <td>string</td>\n",
       "      <td>ENSG00000100129</td>\n",
       "      <td>ENSP00000485663</td>\n",
       "      <td>unspecified role</td>\n",
       "      <td>ENSG00000165275</td>\n",
       "      <td>ENSP00000297994</td>\n",
       "      <td>unspecified role</td>\n",
       "      <td>{'mnemonic': 'human', 'scientific_name': 'Homo...</td>\n",
       "      <td>{'mnemonic': 'human', 'scientific_name': 'Homo...</td>\n",
       "      <td>1</td>\n",
       "      <td>0.171</td>\n",
       "    </tr>\n",
       "    <tr>\n",
       "      <th>12172947</th>\n",
       "      <td>string</td>\n",
       "      <td>ENSG00000100129</td>\n",
       "      <td>ENSP00000485663</td>\n",
       "      <td>unspecified role</td>\n",
       "      <td>ENSG00000146830</td>\n",
       "      <td>ENSP00000275732</td>\n",
       "      <td>unspecified role</td>\n",
       "      <td>{'mnemonic': 'human', 'scientific_name': 'Homo...</td>\n",
       "      <td>{'mnemonic': 'human', 'scientific_name': 'Homo...</td>\n",
       "      <td>2</td>\n",
       "      <td>0.206</td>\n",
       "    </tr>\n",
       "    <tr>\n",
       "      <th>12172948</th>\n",
       "      <td>string</td>\n",
       "      <td>ENSG00000100129</td>\n",
       "      <td>ENSP00000485663</td>\n",
       "      <td>unspecified role</td>\n",
       "      <td>ENSG00000107581</td>\n",
       "      <td>ENSP00000358140</td>\n",
       "      <td>unspecified role</td>\n",
       "      <td>{'mnemonic': 'human', 'scientific_name': 'Homo...</td>\n",
       "      <td>{'mnemonic': 'human', 'scientific_name': 'Homo...</td>\n",
       "      <td>4</td>\n",
       "      <td>0.999</td>\n",
       "    </tr>\n",
       "    <tr>\n",
       "      <th>12172949</th>\n",
       "      <td>string</td>\n",
       "      <td>ENSG00000100129</td>\n",
       "      <td>ENSP00000485663</td>\n",
       "      <td>unspecified role</td>\n",
       "      <td>ENSG00000163584</td>\n",
       "      <td>ENSP00000346080</td>\n",
       "      <td>unspecified role</td>\n",
       "      <td>{'mnemonic': 'human', 'scientific_name': 'Homo...</td>\n",
       "      <td>{'mnemonic': 'human', 'scientific_name': 'Homo...</td>\n",
       "      <td>2</td>\n",
       "      <td>0.911</td>\n",
       "    </tr>\n",
       "    <tr>\n",
       "      <th>12172950</th>\n",
       "      <td>string</td>\n",
       "      <td>ENSG00000100129</td>\n",
       "      <td>ENSP00000485663</td>\n",
       "      <td>unspecified role</td>\n",
       "      <td>ENSG00000136271</td>\n",
       "      <td>ENSP00000258772</td>\n",
       "      <td>unspecified role</td>\n",
       "      <td>{'mnemonic': 'human', 'scientific_name': 'Homo...</td>\n",
       "      <td>{'mnemonic': 'human', 'scientific_name': 'Homo...</td>\n",
       "      <td>2</td>\n",
       "      <td>0.197</td>\n",
       "    </tr>\n",
       "  </tbody>\n",
       "</table>\n",
       "<p>11367936 rows × 11 columns</p>\n",
       "</div>"
      ],
      "text/plain": [
       "         sourceDatabase          targetA             intA intABiologicalRole  \\\n",
       "4065             string  ENSG00000004059  ENSP00000000233   unspecified role   \n",
       "4066             string  ENSG00000004059  ENSP00000000233   unspecified role   \n",
       "4067             string  ENSG00000004059  ENSP00000000233   unspecified role   \n",
       "4068             string  ENSG00000003056  ENSP00000000412   unspecified role   \n",
       "4069             string  ENSG00000004478  ENSP00000001008   unspecified role   \n",
       "...                 ...              ...              ...                ...   \n",
       "12172946         string  ENSG00000100129  ENSP00000485663   unspecified role   \n",
       "12172947         string  ENSG00000100129  ENSP00000485663   unspecified role   \n",
       "12172948         string  ENSG00000100129  ENSP00000485663   unspecified role   \n",
       "12172949         string  ENSG00000100129  ENSP00000485663   unspecified role   \n",
       "12172950         string  ENSG00000100129  ENSP00000485663   unspecified role   \n",
       "\n",
       "                  targetB             intB intBBiologicalRole  \\\n",
       "4065      ENSG00000057608  ENSP00000369538   unspecified role   \n",
       "4066      ENSG00000175311  ENSP00000308772   unspecified role   \n",
       "4067      ENSG00000198055  ENSP00000433511   unspecified role   \n",
       "4068      ENSG00000106976  ENSP00000362014   unspecified role   \n",
       "4069      ENSG00000114867  ENSP00000416255   unspecified role   \n",
       "...                   ...              ...                ...   \n",
       "12172946  ENSG00000165275  ENSP00000297994   unspecified role   \n",
       "12172947  ENSG00000146830  ENSP00000275732   unspecified role   \n",
       "12172948  ENSG00000107581  ENSP00000358140   unspecified role   \n",
       "12172949  ENSG00000163584  ENSP00000346080   unspecified role   \n",
       "12172950  ENSG00000136271  ENSP00000258772   unspecified role   \n",
       "\n",
       "                                                   speciesA  \\\n",
       "4065      {'mnemonic': 'human', 'scientific_name': 'Homo...   \n",
       "4066      {'mnemonic': 'human', 'scientific_name': 'Homo...   \n",
       "4067      {'mnemonic': 'human', 'scientific_name': 'Homo...   \n",
       "4068      {'mnemonic': 'human', 'scientific_name': 'Homo...   \n",
       "4069      {'mnemonic': 'human', 'scientific_name': 'Homo...   \n",
       "...                                                     ...   \n",
       "12172946  {'mnemonic': 'human', 'scientific_name': 'Homo...   \n",
       "12172947  {'mnemonic': 'human', 'scientific_name': 'Homo...   \n",
       "12172948  {'mnemonic': 'human', 'scientific_name': 'Homo...   \n",
       "12172949  {'mnemonic': 'human', 'scientific_name': 'Homo...   \n",
       "12172950  {'mnemonic': 'human', 'scientific_name': 'Homo...   \n",
       "\n",
       "                                                   speciesB  count  scoring  \n",
       "4065      {'mnemonic': 'human', 'scientific_name': 'Homo...      2    0.209  \n",
       "4066      {'mnemonic': 'human', 'scientific_name': 'Homo...      2    0.175  \n",
       "4067      {'mnemonic': 'human', 'scientific_name': 'Homo...      2    0.197  \n",
       "4068      {'mnemonic': 'human', 'scientific_name': 'Homo...      2    0.904  \n",
       "4069      {'mnemonic': 'human', 'scientific_name': 'Homo...      2    0.348  \n",
       "...                                                     ...    ...      ...  \n",
       "12172946  {'mnemonic': 'human', 'scientific_name': 'Homo...      1    0.171  \n",
       "12172947  {'mnemonic': 'human', 'scientific_name': 'Homo...      2    0.206  \n",
       "12172948  {'mnemonic': 'human', 'scientific_name': 'Homo...      4    0.999  \n",
       "12172949  {'mnemonic': 'human', 'scientific_name': 'Homo...      2    0.911  \n",
       "12172950  {'mnemonic': 'human', 'scientific_name': 'Homo...      2    0.197  \n",
       "\n",
       "[11367936 rows x 11 columns]"
      ]
     },
     "execution_count": 4,
     "metadata": {},
     "output_type": "execute_result"
    }
   ],
   "source": [
    "# filter only the interaction data that is from STRING database which contain the Protein-to-Protein interaction\n",
    "ppi = pd.DataFrame(interactions.loc[interactions['sourceDatabase'] == 'string'])\n",
    "ppi"
   ]
  },
  {
   "cell_type": "markdown",
   "metadata": {},
   "source": [
    "#### Data Checking and Cleaning"
   ]
  },
  {
   "cell_type": "code",
   "execution_count": 34,
   "metadata": {},
   "outputs": [],
   "source": [
    "# define helper functions to check if there is self-looping within a network graph\n",
    "\n",
    "def has_self_loop(graph):\n",
    "    '''\n",
    "    check if there is self interacting nodes\n",
    "    parameter: \n",
    "        graph: networkx graph object\n",
    "    return \n",
    "        True: if there is self-interacting node\n",
    "        False: if there is no self-interacting node\n",
    "    '''\n",
    "    for node in graph.nodes():\n",
    "        if node in graph.neighbors(node):\n",
    "            return True\n",
    "    return False\n",
    "\n",
    "# define helper functions to retrieve the list of self-looping nodes within a network graph\n",
    "def nodes_with_self_loop(graph):\n",
    "    '''\n",
    "    get the nodes that is self-interacting\n",
    "    parameter: \n",
    "        graph: networkx graph object\n",
    "    return: \n",
    "        list, a list of nodes that are self-interacting\n",
    "    '''\n",
    "    nodes_with_loop = []\n",
    "    for node in graph.nodes():\n",
    "        if node in graph.neighbors(node):\n",
    "            nodes_with_loop.append(node)\n",
    "    return nodes_with_loop\n",
    "\n",
    "# define helper functions to plot log log graph for the network degree distribution\n",
    "def plot_log_log_degree_dist(graph):\n",
    "    '''\n",
    "    plot the log log degree distribution from the graph object\n",
    "    parameter: \n",
    "        G: networkx graph object\n",
    "    return: \n",
    "        list, a list of nodes that are self-interacting\n",
    "    '''\n",
    "    degree_of_each_node = [v for k,v in nx.degree(graph)]\n",
    "    uq_degree_vals = sorted(set(degree_of_each_node))\n",
    "    frequency_for_each_uq_degree_val = [degree_of_each_node.count(x) for x in uq_degree_vals]\n",
    "\n",
    "    x = np.asarray(uq_degree_vals, dtype = float)\n",
    "    y = np.asarray(frequency_for_each_uq_degree_val, dtype = float)\n",
    "\n",
    "    logx = np.log10(x)\n",
    "    logy = np.log10(y)\n",
    "\n",
    "    plt.figure(figsize=(10,10))\n",
    "    plt.xlim(min(logx), max(logx))\n",
    "    plt.xlabel('log10 (Degree)')\n",
    "    plt.ylabel('log10 (Number of nodes)')\n",
    "    plt.title('Degree Distribution of Network')\n",
    "    out_degree_dist = plt.plot(logx, logy, 'o')\n",
    "    \n",
    "    return None"
   ]
  },
  {
   "cell_type": "code",
   "execution_count": 6,
   "metadata": {},
   "outputs": [
    {
     "data": {
      "text/plain": [
       "0"
      ]
     },
     "execution_count": 6,
     "metadata": {},
     "output_type": "execute_result"
    }
   ],
   "source": [
    "# check if the the ppi targets start with non ENSG id (ENSG are for human genes ID)\n",
    "\n",
    "not_ENSG_series = ppi[~ppi['targetA'].str.startswith('ENSG')]\n",
    "\n",
    "# empty set means all targets are start with ENSG\n",
    "len(not_ENSG_series)"
   ]
  },
  {
   "cell_type": "code",
   "execution_count": 10,
   "metadata": {},
   "outputs": [],
   "source": [
    "# drop record if the 'targetB' is empty\n",
    "\n",
    "ppi_no_emptyB = ppi.dropna(subset=['targetB'])"
   ]
  },
  {
   "cell_type": "code",
   "execution_count": 11,
   "metadata": {},
   "outputs": [
    {
     "data": {
      "text/html": [
       "<div>\n",
       "<style scoped>\n",
       "    .dataframe tbody tr th:only-of-type {\n",
       "        vertical-align: middle;\n",
       "    }\n",
       "\n",
       "    .dataframe tbody tr th {\n",
       "        vertical-align: top;\n",
       "    }\n",
       "\n",
       "    .dataframe thead th {\n",
       "        text-align: right;\n",
       "    }\n",
       "</style>\n",
       "<table border=\"1\" class=\"dataframe\">\n",
       "  <thead>\n",
       "    <tr style=\"text-align: right;\">\n",
       "      <th></th>\n",
       "      <th>sourceDatabase</th>\n",
       "      <th>targetA</th>\n",
       "      <th>intA</th>\n",
       "      <th>intABiologicalRole</th>\n",
       "      <th>targetB</th>\n",
       "      <th>intB</th>\n",
       "      <th>intBBiologicalRole</th>\n",
       "      <th>speciesA</th>\n",
       "      <th>speciesB</th>\n",
       "      <th>count</th>\n",
       "      <th>scoring</th>\n",
       "    </tr>\n",
       "  </thead>\n",
       "  <tbody>\n",
       "    <tr>\n",
       "      <th>4065</th>\n",
       "      <td>string</td>\n",
       "      <td>ENSG00000004059</td>\n",
       "      <td>ENSP00000000233</td>\n",
       "      <td>unspecified role</td>\n",
       "      <td>ENSG00000057608</td>\n",
       "      <td>ENSP00000369538</td>\n",
       "      <td>unspecified role</td>\n",
       "      <td>{'mnemonic': 'human', 'scientific_name': 'Homo...</td>\n",
       "      <td>{'mnemonic': 'human', 'scientific_name': 'Homo...</td>\n",
       "      <td>2</td>\n",
       "      <td>0.209</td>\n",
       "    </tr>\n",
       "    <tr>\n",
       "      <th>4066</th>\n",
       "      <td>string</td>\n",
       "      <td>ENSG00000004059</td>\n",
       "      <td>ENSP00000000233</td>\n",
       "      <td>unspecified role</td>\n",
       "      <td>ENSG00000175311</td>\n",
       "      <td>ENSP00000308772</td>\n",
       "      <td>unspecified role</td>\n",
       "      <td>{'mnemonic': 'human', 'scientific_name': 'Homo...</td>\n",
       "      <td>{'mnemonic': 'human', 'scientific_name': 'Homo...</td>\n",
       "      <td>2</td>\n",
       "      <td>0.175</td>\n",
       "    </tr>\n",
       "    <tr>\n",
       "      <th>4067</th>\n",
       "      <td>string</td>\n",
       "      <td>ENSG00000004059</td>\n",
       "      <td>ENSP00000000233</td>\n",
       "      <td>unspecified role</td>\n",
       "      <td>ENSG00000198055</td>\n",
       "      <td>ENSP00000433511</td>\n",
       "      <td>unspecified role</td>\n",
       "      <td>{'mnemonic': 'human', 'scientific_name': 'Homo...</td>\n",
       "      <td>{'mnemonic': 'human', 'scientific_name': 'Homo...</td>\n",
       "      <td>2</td>\n",
       "      <td>0.197</td>\n",
       "    </tr>\n",
       "    <tr>\n",
       "      <th>4068</th>\n",
       "      <td>string</td>\n",
       "      <td>ENSG00000003056</td>\n",
       "      <td>ENSP00000000412</td>\n",
       "      <td>unspecified role</td>\n",
       "      <td>ENSG00000106976</td>\n",
       "      <td>ENSP00000362014</td>\n",
       "      <td>unspecified role</td>\n",
       "      <td>{'mnemonic': 'human', 'scientific_name': 'Homo...</td>\n",
       "      <td>{'mnemonic': 'human', 'scientific_name': 'Homo...</td>\n",
       "      <td>2</td>\n",
       "      <td>0.904</td>\n",
       "    </tr>\n",
       "    <tr>\n",
       "      <th>4069</th>\n",
       "      <td>string</td>\n",
       "      <td>ENSG00000004478</td>\n",
       "      <td>ENSP00000001008</td>\n",
       "      <td>unspecified role</td>\n",
       "      <td>ENSG00000114867</td>\n",
       "      <td>ENSP00000416255</td>\n",
       "      <td>unspecified role</td>\n",
       "      <td>{'mnemonic': 'human', 'scientific_name': 'Homo...</td>\n",
       "      <td>{'mnemonic': 'human', 'scientific_name': 'Homo...</td>\n",
       "      <td>2</td>\n",
       "      <td>0.348</td>\n",
       "    </tr>\n",
       "    <tr>\n",
       "      <th>...</th>\n",
       "      <td>...</td>\n",
       "      <td>...</td>\n",
       "      <td>...</td>\n",
       "      <td>...</td>\n",
       "      <td>...</td>\n",
       "      <td>...</td>\n",
       "      <td>...</td>\n",
       "      <td>...</td>\n",
       "      <td>...</td>\n",
       "      <td>...</td>\n",
       "      <td>...</td>\n",
       "    </tr>\n",
       "    <tr>\n",
       "      <th>12172946</th>\n",
       "      <td>string</td>\n",
       "      <td>ENSG00000100129</td>\n",
       "      <td>ENSP00000485663</td>\n",
       "      <td>unspecified role</td>\n",
       "      <td>ENSG00000165275</td>\n",
       "      <td>ENSP00000297994</td>\n",
       "      <td>unspecified role</td>\n",
       "      <td>{'mnemonic': 'human', 'scientific_name': 'Homo...</td>\n",
       "      <td>{'mnemonic': 'human', 'scientific_name': 'Homo...</td>\n",
       "      <td>1</td>\n",
       "      <td>0.171</td>\n",
       "    </tr>\n",
       "    <tr>\n",
       "      <th>12172947</th>\n",
       "      <td>string</td>\n",
       "      <td>ENSG00000100129</td>\n",
       "      <td>ENSP00000485663</td>\n",
       "      <td>unspecified role</td>\n",
       "      <td>ENSG00000146830</td>\n",
       "      <td>ENSP00000275732</td>\n",
       "      <td>unspecified role</td>\n",
       "      <td>{'mnemonic': 'human', 'scientific_name': 'Homo...</td>\n",
       "      <td>{'mnemonic': 'human', 'scientific_name': 'Homo...</td>\n",
       "      <td>2</td>\n",
       "      <td>0.206</td>\n",
       "    </tr>\n",
       "    <tr>\n",
       "      <th>12172948</th>\n",
       "      <td>string</td>\n",
       "      <td>ENSG00000100129</td>\n",
       "      <td>ENSP00000485663</td>\n",
       "      <td>unspecified role</td>\n",
       "      <td>ENSG00000107581</td>\n",
       "      <td>ENSP00000358140</td>\n",
       "      <td>unspecified role</td>\n",
       "      <td>{'mnemonic': 'human', 'scientific_name': 'Homo...</td>\n",
       "      <td>{'mnemonic': 'human', 'scientific_name': 'Homo...</td>\n",
       "      <td>4</td>\n",
       "      <td>0.999</td>\n",
       "    </tr>\n",
       "    <tr>\n",
       "      <th>12172949</th>\n",
       "      <td>string</td>\n",
       "      <td>ENSG00000100129</td>\n",
       "      <td>ENSP00000485663</td>\n",
       "      <td>unspecified role</td>\n",
       "      <td>ENSG00000163584</td>\n",
       "      <td>ENSP00000346080</td>\n",
       "      <td>unspecified role</td>\n",
       "      <td>{'mnemonic': 'human', 'scientific_name': 'Homo...</td>\n",
       "      <td>{'mnemonic': 'human', 'scientific_name': 'Homo...</td>\n",
       "      <td>2</td>\n",
       "      <td>0.911</td>\n",
       "    </tr>\n",
       "    <tr>\n",
       "      <th>12172950</th>\n",
       "      <td>string</td>\n",
       "      <td>ENSG00000100129</td>\n",
       "      <td>ENSP00000485663</td>\n",
       "      <td>unspecified role</td>\n",
       "      <td>ENSG00000136271</td>\n",
       "      <td>ENSP00000258772</td>\n",
       "      <td>unspecified role</td>\n",
       "      <td>{'mnemonic': 'human', 'scientific_name': 'Homo...</td>\n",
       "      <td>{'mnemonic': 'human', 'scientific_name': 'Homo...</td>\n",
       "      <td>2</td>\n",
       "      <td>0.197</td>\n",
       "    </tr>\n",
       "  </tbody>\n",
       "</table>\n",
       "<p>10991574 rows × 11 columns</p>\n",
       "</div>"
      ],
      "text/plain": [
       "         sourceDatabase          targetA             intA intABiologicalRole  \\\n",
       "4065             string  ENSG00000004059  ENSP00000000233   unspecified role   \n",
       "4066             string  ENSG00000004059  ENSP00000000233   unspecified role   \n",
       "4067             string  ENSG00000004059  ENSP00000000233   unspecified role   \n",
       "4068             string  ENSG00000003056  ENSP00000000412   unspecified role   \n",
       "4069             string  ENSG00000004478  ENSP00000001008   unspecified role   \n",
       "...                 ...              ...              ...                ...   \n",
       "12172946         string  ENSG00000100129  ENSP00000485663   unspecified role   \n",
       "12172947         string  ENSG00000100129  ENSP00000485663   unspecified role   \n",
       "12172948         string  ENSG00000100129  ENSP00000485663   unspecified role   \n",
       "12172949         string  ENSG00000100129  ENSP00000485663   unspecified role   \n",
       "12172950         string  ENSG00000100129  ENSP00000485663   unspecified role   \n",
       "\n",
       "                  targetB             intB intBBiologicalRole  \\\n",
       "4065      ENSG00000057608  ENSP00000369538   unspecified role   \n",
       "4066      ENSG00000175311  ENSP00000308772   unspecified role   \n",
       "4067      ENSG00000198055  ENSP00000433511   unspecified role   \n",
       "4068      ENSG00000106976  ENSP00000362014   unspecified role   \n",
       "4069      ENSG00000114867  ENSP00000416255   unspecified role   \n",
       "...                   ...              ...                ...   \n",
       "12172946  ENSG00000165275  ENSP00000297994   unspecified role   \n",
       "12172947  ENSG00000146830  ENSP00000275732   unspecified role   \n",
       "12172948  ENSG00000107581  ENSP00000358140   unspecified role   \n",
       "12172949  ENSG00000163584  ENSP00000346080   unspecified role   \n",
       "12172950  ENSG00000136271  ENSP00000258772   unspecified role   \n",
       "\n",
       "                                                   speciesA  \\\n",
       "4065      {'mnemonic': 'human', 'scientific_name': 'Homo...   \n",
       "4066      {'mnemonic': 'human', 'scientific_name': 'Homo...   \n",
       "4067      {'mnemonic': 'human', 'scientific_name': 'Homo...   \n",
       "4068      {'mnemonic': 'human', 'scientific_name': 'Homo...   \n",
       "4069      {'mnemonic': 'human', 'scientific_name': 'Homo...   \n",
       "...                                                     ...   \n",
       "12172946  {'mnemonic': 'human', 'scientific_name': 'Homo...   \n",
       "12172947  {'mnemonic': 'human', 'scientific_name': 'Homo...   \n",
       "12172948  {'mnemonic': 'human', 'scientific_name': 'Homo...   \n",
       "12172949  {'mnemonic': 'human', 'scientific_name': 'Homo...   \n",
       "12172950  {'mnemonic': 'human', 'scientific_name': 'Homo...   \n",
       "\n",
       "                                                   speciesB  count  scoring  \n",
       "4065      {'mnemonic': 'human', 'scientific_name': 'Homo...      2    0.209  \n",
       "4066      {'mnemonic': 'human', 'scientific_name': 'Homo...      2    0.175  \n",
       "4067      {'mnemonic': 'human', 'scientific_name': 'Homo...      2    0.197  \n",
       "4068      {'mnemonic': 'human', 'scientific_name': 'Homo...      2    0.904  \n",
       "4069      {'mnemonic': 'human', 'scientific_name': 'Homo...      2    0.348  \n",
       "...                                                     ...    ...      ...  \n",
       "12172946  {'mnemonic': 'human', 'scientific_name': 'Homo...      1    0.171  \n",
       "12172947  {'mnemonic': 'human', 'scientific_name': 'Homo...      2    0.206  \n",
       "12172948  {'mnemonic': 'human', 'scientific_name': 'Homo...      4    0.999  \n",
       "12172949  {'mnemonic': 'human', 'scientific_name': 'Homo...      2    0.911  \n",
       "12172950  {'mnemonic': 'human', 'scientific_name': 'Homo...      2    0.197  \n",
       "\n",
       "[10991574 rows x 11 columns]"
      ]
     },
     "execution_count": 11,
     "metadata": {},
     "output_type": "execute_result"
    }
   ],
   "source": [
    "ppi_no_emptyB"
   ]
  },
  {
   "cell_type": "code",
   "execution_count": 12,
   "metadata": {},
   "outputs": [],
   "source": [
    "# conver the ppi data into network graph, and set the edge attribute with values under 'scoring'\n",
    "\n",
    "ppi_graph = nx.from_pandas_edgelist(ppi_no_emptyB, source='targetA', target='targetB', edge_attr=['scoring'])"
   ]
  },
  {
   "cell_type": "code",
   "execution_count": 13,
   "metadata": {},
   "outputs": [],
   "source": [
    "# export the ppi_graph as binary file for future use\n",
    "\n",
    "with open('data\\ppi\\ppi_graph.gpickle', 'wb') as f:\n",
    "    pickle.dump(ppi_graph, f, pickle.HIGHEST_PROTOCOL)"
   ]
  },
  {
   "cell_type": "code",
   "execution_count": 4,
   "metadata": {},
   "outputs": [
    {
     "data": {
      "text/plain": [
       "1"
      ]
     },
     "execution_count": 4,
     "metadata": {},
     "output_type": "execute_result"
    }
   ],
   "source": [
    "# check how many largest connected component in teh network (subgraph)\n",
    "components = nx.connected_components(ppi_graph)\n",
    "largest_component = max(components, key=len)\n",
    "num_components = nx.number_connected_components(ppi_graph)\n",
    "num_components"
   ]
  },
  {
   "cell_type": "markdown",
   "metadata": {},
   "source": [
    "#### Remove edges with interaction scores below a predefined threshold"
   ]
  },
  {
   "cell_type": "code",
   "execution_count": 16,
   "metadata": {},
   "outputs": [],
   "source": [
    "# set the threshold to filer edges of low confidence score\n",
    "PPI_SCORE_TH = 0.7\n",
    "\n",
    "# identify edges to remove\n",
    "edges_to_remove = [(u, v) for u, v, w in ppi_graph.edges(data='scoring') if w < PPI_SCORE_TH]\n",
    "\n",
    "# create a copy of the ppi_graph\n",
    "ppi_removed_low_edge = ppi_graph.copy()\n",
    "\n",
    "# remove low edges below the threshold\n",
    "ppi_removed_low_edge.remove_edges_from(edges_to_remove)"
   ]
  },
  {
   "cell_type": "code",
   "execution_count": 17,
   "metadata": {},
   "outputs": [
    {
     "name": "stdout",
     "output_type": "stream",
     "text": [
      "original PPI\n",
      "Number of nodes: 18451\n",
      "Number of edges: 5479182\n",
      "removed low confidence  0.7\n",
      "Number of nodes: 18451\n",
      "Number of edges: 395373\n"
     ]
    }
   ],
   "source": [
    "# compare the number of records before and after the removal\n",
    "\n",
    "print(\"original PPI\")\n",
    "print(\"Number of nodes:\", ppi_graph.number_of_nodes())\n",
    "print(\"Number of edges:\", ppi_graph.number_of_edges())\n",
    "\n",
    "print(\"removed low confidence \", PPI_SCORE_TH)\n",
    "print(\"Number of nodes:\", ppi_removed_low_edge.number_of_nodes())\n",
    "print(\"Number of edges:\", ppi_removed_low_edge.number_of_edges())"
   ]
  },
  {
   "cell_type": "code",
   "execution_count": 19,
   "metadata": {},
   "outputs": [
    {
     "data": {
      "text/plain": [
       "True"
      ]
     },
     "execution_count": 19,
     "metadata": {},
     "output_type": "execute_result"
    }
   ],
   "source": [
    "# check if there are nodes interact with itself\n",
    "has_self_loop(ppi_removed_low_edge)"
   ]
  },
  {
   "cell_type": "code",
   "execution_count": 21,
   "metadata": {},
   "outputs": [],
   "source": [
    "# get the largest connected component in the network after removal of low score edges\n",
    "components = nx.connected_components(ppi_removed_low_edge)\n",
    "largest_component_removed_low_edge = max(components, key=len)\n",
    "largest_subgraph_removed_low_edge = ppi_removed_low_edge.subgraph(largest_component_removed_low_edge)"
   ]
  },
  {
   "cell_type": "code",
   "execution_count": 23,
   "metadata": {},
   "outputs": [
    {
     "data": {
      "text/plain": [
       "['ENSG00000213999',\n",
       " 'ENSG00000114126',\n",
       " 'ENSG00000225830',\n",
       " 'ENSG00000234906',\n",
       " 'ENSG00000137843',\n",
       " 'ENSG00000196136',\n",
       " 'ENSG00000158747',\n",
       " 'ENSG00000128271',\n",
       " 'ENSG00000157654',\n",
       " 'ENSG00000080910']"
      ]
     },
     "execution_count": 23,
     "metadata": {},
     "output_type": "execute_result"
    }
   ],
   "source": [
    "# retrieve the nodes that have multiple proteins and have interaction with itself \n",
    "\n",
    "nodes_with_self_loop(largest_subgraph_removed_low_edge)"
   ]
  },
  {
   "cell_type": "code",
   "execution_count": 13,
   "metadata": {},
   "outputs": [
    {
     "data": {
      "text/plain": [
       "[('ENSG00000213999', 'ENSG00000213999'),\n",
       " ('ENSG00000114126', 'ENSG00000114126'),\n",
       " ('ENSG00000225830', 'ENSG00000225830'),\n",
       " ('ENSG00000234906', 'ENSG00000234906'),\n",
       " ('ENSG00000137843', 'ENSG00000137843'),\n",
       " ('ENSG00000196136', 'ENSG00000196136'),\n",
       " ('ENSG00000158747', 'ENSG00000158747'),\n",
       " ('ENSG00000128271', 'ENSG00000128271'),\n",
       " ('ENSG00000157654', 'ENSG00000157654'),\n",
       " ('ENSG00000080910', 'ENSG00000080910')]"
      ]
     },
     "execution_count": 13,
     "metadata": {},
     "output_type": "execute_result"
    }
   ],
   "source": [
    "# look up the edges with self interaction\n",
    "\n",
    "self_interact_nodes = [(u, v) for u, v in ppi_removed_low_edge.edges() if u == v]\n",
    "\n",
    "self_interact_nodes\n"
   ]
  },
  {
   "cell_type": "code",
   "execution_count": 26,
   "metadata": {},
   "outputs": [],
   "source": [
    "# remove the self-interacting edges \n",
    "\n",
    "ppi_removed_low_edge_and_self_loop = ppi_removed_low_edge.copy()\n",
    "ppi_removed_low_edge_and_self_loop.remove_edges_from(self_interact_nodes)"
   ]
  },
  {
   "cell_type": "code",
   "execution_count": 27,
   "metadata": {},
   "outputs": [
    {
     "name": "stdout",
     "output_type": "stream",
     "text": [
      "original PPI\n",
      "Number of nodes: 18451\n",
      "Number of edges: 5479182\n",
      "removed low confidence  0.7\n",
      "Number of nodes: 18451\n",
      "Number of edges: 395373\n",
      "removed self loop nodes \n",
      "Number of nodes: 18451\n",
      "Number of edges: 395363\n"
     ]
    }
   ],
   "source": [
    "print(\"original PPI\")\n",
    "print(\"Number of nodes:\", ppi_graph.number_of_nodes())\n",
    "print(\"Number of edges:\", ppi_graph.number_of_edges())\n",
    "\n",
    "print(\"removed low confidence \", PPI_SCORE_TH)\n",
    "print(\"Number of nodes:\", ppi_removed_low_edge.number_of_nodes())\n",
    "print(\"Number of edges:\", ppi_removed_low_edge.number_of_edges())\n",
    "\n",
    "print(\"removed self loop nodes \")\n",
    "print(\"Number of nodes:\", ppi_removed_low_edge_and_self_loop.number_of_nodes())\n",
    "print(\"Number of edges:\", ppi_removed_low_edge_and_self_loop.number_of_edges())"
   ]
  },
  {
   "cell_type": "code",
   "execution_count": 29,
   "metadata": {},
   "outputs": [
    {
     "data": {
      "text/plain": [
       "2109"
      ]
     },
     "execution_count": 29,
     "metadata": {},
     "output_type": "execute_result"
    }
   ],
   "source": [
    "# check the number of components in the network\n",
    "\n",
    "num_components = nx.number_connected_components(ppi_removed_low_edge_and_self_loop)\n",
    "num_components"
   ]
  },
  {
   "cell_type": "markdown",
   "metadata": {},
   "source": [
    "#### Obtain the largest subgraph from the PPI network"
   ]
  },
  {
   "cell_type": "code",
   "execution_count": 30,
   "metadata": {},
   "outputs": [],
   "source": [
    "# obtain thhe largest connected component\n",
    "components = nx.connected_components(ppi_removed_low_edge_and_self_loop)\n",
    "largest_component = max(components, key=len)\n",
    "largest_subgraph = ppi_removed_low_edge_and_self_loop.subgraph(largest_component)"
   ]
  },
  {
   "cell_type": "code",
   "execution_count": 31,
   "metadata": {},
   "outputs": [],
   "source": [
    "# export the largest subgraph for future use\n",
    "with open('data\\ppi\\largest_subgraph.gpickle', 'wb') as f:\n",
    "    pickle.dump(largest_subgraph, f, pickle.HIGHEST_PROTOCOL)"
   ]
  },
  {
   "cell_type": "markdown",
   "metadata": {},
   "source": [
    "#### Validating the Largetest Subgraph Details"
   ]
  },
  {
   "cell_type": "code",
   "execution_count": 32,
   "metadata": {},
   "outputs": [
    {
     "data": {
      "text/plain": [
       "False"
      ]
     },
     "execution_count": 32,
     "metadata": {},
     "output_type": "execute_result"
    }
   ],
   "source": [
    "# check if there is any self-looping \n",
    "\n",
    "has_self_loop(largest_subgraph)"
   ]
  },
  {
   "cell_type": "code",
   "execution_count": 33,
   "metadata": {},
   "outputs": [
    {
     "data": {
      "text/plain": [
       "True"
      ]
     },
     "execution_count": 33,
     "metadata": {},
     "output_type": "execute_result"
    }
   ],
   "source": [
    "# check if the edge attribut 'scoring' remains intact \n",
    "\n",
    "has_weights = any('scoring' in data for _, _, data in largest_subgraph.edges(data=True))\n",
    "has_weights"
   ]
  },
  {
   "cell_type": "code",
   "execution_count": 35,
   "metadata": {},
   "outputs": [
    {
     "name": "stdout",
     "output_type": "stream",
     "text": [
      "largest connected component: \n",
      "Number of nodes: 16210\n",
      "Number of edges: 395211\n"
     ]
    },
    {
     "data": {
      "text/plain": [
       "(array([1.4449e+04, 1.3750e+03, 3.1300e+02, 6.3000e+01, 3.0000e+00,\n",
       "        3.0000e+00, 0.0000e+00, 0.0000e+00, 2.0000e+00, 2.0000e+00]),\n",
       " array([1.0000e+00, 1.3960e+02, 2.7820e+02, 4.1680e+02, 5.5540e+02,\n",
       "        6.9400e+02, 8.3260e+02, 9.7120e+02, 1.1098e+03, 1.2484e+03,\n",
       "        1.3870e+03]),\n",
       " <BarContainer object of 10 artists>)"
      ]
     },
     "execution_count": 35,
     "metadata": {},
     "output_type": "execute_result"
    },
    {
     "data": {
      "image/png": "[encoded data removed]",
      "text/plain": [
       "<Figure size 640x480 with 1 Axes>"
      ]
     },
     "metadata": {},
     "output_type": "display_data"
    }
   ],
   "source": [
    "# display the details of the largest subgraph\n",
    "\n",
    "print(\"largest connected component: \")\n",
    "print(\"Number of nodes:\", largest_subgraph.number_of_nodes())\n",
    "print(\"Number of edges:\", largest_subgraph.number_of_edges())\n",
    "\n",
    "plt.hist([v for k,v in nx.degree(largest_subgraph)])"
   ]
  },
  {
   "cell_type": "code",
   "execution_count": 37,
   "metadata": {},
   "outputs": [
    {
     "data": {
      "image/png": "[encoded data removed]",
      "text/plain": [
       "<Figure size 1000x1000 with 1 Axes>"
      ]
     },
     "metadata": {},
     "output_type": "display_data"
    }
   ],
   "source": [
    "# visualise the degree of the largest subgraph\n",
    "\n",
    "plot_log_log_degree_dist(largest_subgraph)"
   ]
  }
 ],
 "metadata": {
  "kernelspec": {
   "display_name": "base",
   "language": "python",
   "name": "python3"
  },
  "language_info": {
   "codemirror_mode": {
    "name": "ipython",
    "version": 3
   },
   "file_extension": ".py",
   "mimetype": "text/x-python",
   "name": "python",
   "nbconvert_exporter": "python",
   "pygments_lexer": "ipython3",
   "version": "3.10.12"
  },
  "orig_nbformat": 4
 },
 "nbformat": 4,
 "nbformat_minor": 2
}
